{
 "cells": [
  {
   "cell_type": "markdown",
   "metadata": {},
   "source": [
    "# Running server and client in separate notebooks - server part\n",
    "This is the first notebook we need to run in this constelation. Note that the client notebook needs to be run now in a separate window."
   ]
  },
  {
   "cell_type": "code",
   "execution_count": 1,
   "metadata": {},
   "outputs": [
    {
     "name": "stderr",
     "output_type": "stream",
     "text": [
      "2025-10-25 19:43:10,954 - vs2lab.lab1.clientserver.Server - INFO - Server bound to socket <socket.socket fd=80, family=2, type=1, proto=0, laddr=('127.0.0.1', 50007)>\n",
      "2025-10-25 19:43:10,974 - vs2lab.lab1.clientserver.Server - INFO - Server initialized correctly!\n",
      "2025-10-25 19:43:12,329 - vs2lab.lab1.clientserver.Server - INFO - Connection established\n",
      "2025-10-25 19:43:12,336 - vs2lab.lab1.clientserver.Server - INFO - Sending all contacts...\n",
      "2025-10-25 19:43:12,338 - vs2lab.lab1.clientserver.Server - INFO - Decoding received message\n",
      "2025-10-25 19:43:12,344 - vs2lab.lab1.clientserver.Server - INFO - Encoding...\n",
      "2025-10-25 19:43:12,345 - vs2lab.lab1.clientserver.Server - INFO - Sending info back!\n",
      "2025-10-25 19:43:12,364 - vs2lab.lab1.clientserver.Server - INFO - Decoding received message\n",
      "2025-10-25 19:43:12,366 - vs2lab.lab1.clientserver.Server - INFO - Encoding...\n",
      "2025-10-25 19:43:12,370 - vs2lab.lab1.clientserver.Server - INFO - Sending info back!\n",
      "2025-10-25 19:43:12,374 - vs2lab.lab1.clientserver.Server - INFO - Decoding received message\n",
      "2025-10-25 19:43:12,376 - vs2lab.lab1.clientserver.Server - INFO - Encoding...\n",
      "2025-10-25 19:43:12,384 - vs2lab.lab1.clientserver.Server - INFO - Sending info back!\n",
      "2025-10-25 19:43:12,396 - vs2lab.lab1.clientserver.Server - INFO - Decoding received message\n",
      "2025-10-25 19:43:12,411 - vs2lab.lab1.clientserver.Server - INFO - Encoding...\n",
      "2025-10-25 19:43:12,417 - vs2lab.lab1.clientserver.Server - INFO - Sending info back!\n",
      "2025-10-25 19:43:12,422 - vs2lab.lab1.clientserver.Server - INFO - Decoding received message\n",
      "2025-10-25 19:43:12,431 - vs2lab.lab1.clientserver.Server - INFO - Encoding...\n",
      "2025-10-25 19:43:12,432 - vs2lab.lab1.clientserver.Server - INFO - Sending info back!\n",
      "2025-10-25 19:43:12,436 - vs2lab.lab1.clientserver.Server - INFO - Decoding received message\n",
      "2025-10-25 19:43:12,439 - vs2lab.lab1.clientserver.Server - INFO - Encoding...\n",
      "2025-10-25 19:43:12,443 - vs2lab.lab1.clientserver.Server - INFO - Sending info back!\n",
      "2025-10-25 19:43:12,446 - vs2lab.lab1.clientserver.Server - INFO - Decoding received message\n",
      "2025-10-25 19:43:12,448 - vs2lab.lab1.clientserver.Server - INFO - Encoding...\n",
      "2025-10-25 19:43:12,450 - vs2lab.lab1.clientserver.Server - INFO - Sending info back!\n",
      "2025-10-25 19:43:12,452 - vs2lab.lab1.clientserver.Server - INFO - Decoding received message\n",
      "2025-10-25 19:43:12,454 - vs2lab.lab1.clientserver.Server - INFO - Encoding...\n",
      "2025-10-25 19:43:12,461 - vs2lab.lab1.clientserver.Server - INFO - Sending info back!\n",
      "2025-10-25 19:43:12,464 - vs2lab.lab1.clientserver.Server - INFO - Decoding received message\n",
      "2025-10-25 19:43:12,470 - vs2lab.lab1.clientserver.Server - INFO - Encoding...\n",
      "2025-10-25 19:43:12,527 - vs2lab.lab1.clientserver.Server - INFO - Sending info back!\n",
      "2025-10-25 19:43:12,537 - vs2lab.lab1.clientserver.Server - INFO - Decoding received message\n",
      "2025-10-25 19:43:12,563 - vs2lab.lab1.clientserver.Server - INFO - Encoding...\n",
      "2025-10-25 19:43:12,586 - vs2lab.lab1.clientserver.Server - INFO - Sending info back!\n",
      "2025-10-25 19:43:12,619 - vs2lab.lab1.clientserver.Server - INFO - Decoding received message\n",
      "2025-10-25 19:43:12,626 - vs2lab.lab1.clientserver.Server - INFO - Encoding...\n",
      "2025-10-25 19:43:12,629 - vs2lab.lab1.clientserver.Server - INFO - Sending info back!\n",
      "2025-10-25 19:43:12,631 - vs2lab.lab1.clientserver.Server - INFO - All contacts have been sent!\n",
      "2025-10-25 19:43:12,632 - vs2lab.lab1.clientserver.Server - INFO - Closing message has been sent\n"
     ]
    },
    {
     "ename": "KeyboardInterrupt",
     "evalue": "",
     "output_type": "error",
     "traceback": [
      "\u001b[31m---------------------------------------------------------------------------\u001b[39m",
      "\u001b[31mKeyboardInterrupt\u001b[39m                         Traceback (most recent call last)",
      "\u001b[36mCell\u001b[39m\u001b[36m \u001b[39m\u001b[32mIn[1]\u001b[39m\u001b[32m, line 5\u001b[39m\n\u001b[32m      1\u001b[39m \u001b[38;5;28;01mimport\u001b[39;00m\u001b[38;5;250m \u001b[39m\u001b[34;01mclientserver\u001b[39;00m \u001b[38;5;66;03m# import from our script\u001b[39;00m\n\u001b[32m      3\u001b[39m server = clientserver.Server() \u001b[38;5;66;03m# Create a server instance\u001b[39;00m\n\u001b[32m----> \u001b[39m\u001b[32m5\u001b[39m \u001b[43mserver\u001b[49m\u001b[43m.\u001b[49m\u001b[43mhandler\u001b[49m\u001b[43m(\u001b[49m\u001b[43m)\u001b[49m \u001b[38;5;66;03m# start server routine in the forked process\u001b[39;00m\n",
      "\u001b[36mFile \u001b[39m\u001b[32m/workspaces/vs2lab/lab1/clientserver.py:61\u001b[39m, in \u001b[36mServer.handler\u001b[39m\u001b[34m(self)\u001b[39m\n\u001b[32m     59\u001b[39m \u001b[38;5;28mself\u001b[39m._logger.info(\u001b[33m\"\u001b[39m\u001b[33mConnection established\u001b[39m\u001b[33m\"\u001b[39m)\n\u001b[32m     60\u001b[39m \u001b[38;5;28;01mwhile\u001b[39;00m \u001b[38;5;28;01mTrue\u001b[39;00m: \n\u001b[32m---> \u001b[39m\u001b[32m61\u001b[39m     data = \u001b[43mconnection\u001b[49m\u001b[43m.\u001b[49m\u001b[43mrecv\u001b[49m\u001b[43m(\u001b[49m\u001b[32;43m1024\u001b[39;49m\u001b[43m)\u001b[49m\n\u001b[32m     62\u001b[39m     \u001b[38;5;28;01mif\u001b[39;00m \u001b[38;5;129;01mnot\u001b[39;00m data: \n\u001b[32m     63\u001b[39m         \u001b[38;5;28;01mbreak\u001b[39;00m\n",
      "\u001b[31mKeyboardInterrupt\u001b[39m: "
     ]
    }
   ],
   "source": [
    "import clientserver # import from our script\n",
    "\n",
    "server = clientserver.Server() # Create a server instance\n",
    "\n",
    "server.handler() # start server routine in the forked process"
   ]
  },
  {
   "cell_type": "markdown",
   "metadata": {},
   "source": [
    "Finished"
   ]
  }
 ],
 "metadata": {
  "kernelspec": {
   "display_name": "vs2lab-uWc7IIUF",
   "language": "python",
   "name": "python3"
  },
  "language_info": {
   "codemirror_mode": {
    "name": "ipython",
    "version": 3
   },
   "file_extension": ".py",
   "mimetype": "text/x-python",
   "name": "python",
   "nbconvert_exporter": "python",
   "pygments_lexer": "ipython3",
   "version": "3.11.4"
  }
 },
 "nbformat": 4,
 "nbformat_minor": 2
}
