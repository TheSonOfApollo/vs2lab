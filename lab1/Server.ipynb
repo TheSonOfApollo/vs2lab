{
 "cells": [
  {
   "cell_type": "markdown",
   "metadata": {},
   "source": [
    "# Running server and client in separate notebooks - server part\n",
    "This is the first notebook we need to run in this constelation. Note that the client notebook needs to be run now in a separate window."
   ]
  },
  {
   "cell_type": "code",
   "execution_count": 1,
   "metadata": {},
   "outputs": [
    {
     "name": "stderr",
     "output_type": "stream",
     "text": [
      "2025-10-23 12:55:09,318 - vs2lab.lab1.clientserver.Server - INFO - Server bound to socket <socket.socket fd=80, family=2, type=1, proto=0, laddr=('127.0.0.1', 50007)>\n"
     ]
    },
    {
     "ename": "KeyboardInterrupt",
     "evalue": "",
     "output_type": "error",
     "traceback": [
      "\u001b[31m---------------------------------------------------------------------------\u001b[39m",
      "\u001b[31mKeyboardInterrupt\u001b[39m                         Traceback (most recent call last)",
      "\u001b[36mCell\u001b[39m\u001b[36m \u001b[39m\u001b[32mIn[1]\u001b[39m\u001b[32m, line 5\u001b[39m\n\u001b[32m      1\u001b[39m \u001b[38;5;28;01mimport\u001b[39;00m\u001b[38;5;250m \u001b[39m\u001b[34;01mclientserver\u001b[39;00m \u001b[38;5;66;03m# import from our script\u001b[39;00m\n\u001b[32m      3\u001b[39m server = clientserver.Server() \u001b[38;5;66;03m# Create a server instance\u001b[39;00m\n\u001b[32m----> \u001b[39m\u001b[32m5\u001b[39m \u001b[43mserver\u001b[49m\u001b[43m.\u001b[49m\u001b[43mserve\u001b[49m\u001b[43m(\u001b[49m\u001b[43m)\u001b[49m \u001b[38;5;66;03m# start server routine in the forked process\u001b[39;00m\n",
      "\u001b[36mFile \u001b[39m\u001b[32m/workspaces/vs2lab/lab1/clientserver.py:33\u001b[39m, in \u001b[36mServer.serve\u001b[39m\u001b[34m(self)\u001b[39m\n\u001b[32m     30\u001b[39m \u001b[38;5;28;01mwhile\u001b[39;00m \u001b[38;5;28mself\u001b[39m._serving:  \u001b[38;5;66;03m# as long as _serving (checked after connections or socket timeouts)\u001b[39;00m\n\u001b[32m     31\u001b[39m     \u001b[38;5;28;01mtry\u001b[39;00m:\n\u001b[32m     32\u001b[39m         \u001b[38;5;66;03m# pylint: disable=unused-variable\u001b[39;00m\n\u001b[32m---> \u001b[39m\u001b[32m33\u001b[39m         (connection, address) = \u001b[38;5;28;43mself\u001b[39;49m\u001b[43m.\u001b[49m\u001b[43msock\u001b[49m\u001b[43m.\u001b[49m\u001b[43maccept\u001b[49m\u001b[43m(\u001b[49m\u001b[43m)\u001b[49m  \u001b[38;5;66;03m# returns new socket and address of client\u001b[39;00m\n\u001b[32m     34\u001b[39m         \u001b[38;5;28;01mwhile\u001b[39;00m \u001b[38;5;28;01mTrue\u001b[39;00m:  \u001b[38;5;66;03m# forever\u001b[39;00m\n\u001b[32m     35\u001b[39m             data = connection.recv(\u001b[32m1024\u001b[39m)  \u001b[38;5;66;03m# receive data from client\u001b[39;00m\n",
      "\u001b[36mFile \u001b[39m\u001b[32m/usr/local/lib/python3.11/socket.py:294\u001b[39m, in \u001b[36msocket.accept\u001b[39m\u001b[34m(self)\u001b[39m\n\u001b[32m    287\u001b[39m \u001b[38;5;28;01mdef\u001b[39;00m\u001b[38;5;250m \u001b[39m\u001b[34maccept\u001b[39m(\u001b[38;5;28mself\u001b[39m):\n\u001b[32m    288\u001b[39m \u001b[38;5;250m    \u001b[39m\u001b[33;03m\"\"\"accept() -> (socket object, address info)\u001b[39;00m\n\u001b[32m    289\u001b[39m \n\u001b[32m    290\u001b[39m \u001b[33;03m    Wait for an incoming connection.  Return a new socket\u001b[39;00m\n\u001b[32m    291\u001b[39m \u001b[33;03m    representing the connection, and the address of the client.\u001b[39;00m\n\u001b[32m    292\u001b[39m \u001b[33;03m    For IP sockets, the address info is a pair (hostaddr, port).\u001b[39;00m\n\u001b[32m    293\u001b[39m \u001b[33;03m    \"\"\"\u001b[39;00m\n\u001b[32m--> \u001b[39m\u001b[32m294\u001b[39m     fd, addr = \u001b[38;5;28;43mself\u001b[39;49m\u001b[43m.\u001b[49m\u001b[43m_accept\u001b[49m\u001b[43m(\u001b[49m\u001b[43m)\u001b[49m\n\u001b[32m    295\u001b[39m     sock = socket(\u001b[38;5;28mself\u001b[39m.family, \u001b[38;5;28mself\u001b[39m.type, \u001b[38;5;28mself\u001b[39m.proto, fileno=fd)\n\u001b[32m    296\u001b[39m     \u001b[38;5;66;03m# Issue #7995: if no default timeout is set and the listening\u001b[39;00m\n\u001b[32m    297\u001b[39m     \u001b[38;5;66;03m# socket had a (non-zero) timeout, force the new socket in blocking\u001b[39;00m\n\u001b[32m    298\u001b[39m     \u001b[38;5;66;03m# mode to override platform-specific socket flags inheritance.\u001b[39;00m\n",
      "\u001b[31mKeyboardInterrupt\u001b[39m: "
     ]
    }
   ],
   "source": [
    "import clientserver # import from our script\n",
    "\n",
    "server = clientserver.Server() # Create a server instance\n",
    "\n",
    "server.serve() # start server routine in the forked process"
   ]
  },
  {
   "cell_type": "markdown",
   "metadata": {},
   "source": [
    "Finished"
   ]
  }
 ],
 "metadata": {
  "kernelspec": {
   "display_name": "vs2lab-uWc7IIUF",
   "language": "python",
   "name": "python3"
  },
  "language_info": {
   "codemirror_mode": {
    "name": "ipython",
    "version": 3
   },
   "file_extension": ".py",
   "mimetype": "text/x-python",
   "name": "python",
   "nbconvert_exporter": "python",
   "pygments_lexer": "ipython3",
   "version": "3.11.4"
  }
 },
 "nbformat": 4,
 "nbformat_minor": 2
}
