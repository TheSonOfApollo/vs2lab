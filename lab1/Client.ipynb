{
 "cells": [
  {
   "cell_type": "markdown",
   "metadata": {},
   "source": [
    "# Running server and client in separate notebooks - client part\n",
    "\n",
    "Here we start the client. The server needs to be started first. Lets go...."
   ]
  },
  {
   "cell_type": "code",
   "execution_count": 1,
   "metadata": {},
   "outputs": [
    {
     "name": "stderr",
     "output_type": "stream",
     "text": [
      "2025-10-25 19:43:12,332 - vs2lab.a1_layers.clientserver.Client - INFO - Client connected to socket <socket.socket fd=79, family=2, type=1, proto=0, laddr=('127.0.0.1', 40824), raddr=('127.0.0.1', 50007)>\n",
      "2025-10-25 19:43:12,336 - vs2lab.a1_layers.clientserver.Client - INFO - Requesting ALL contacts...\n"
     ]
    },
    {
     "ename": "UnboundLocalError",
     "evalue": "cannot access local variable 'info_out' where it is not associated with a value",
     "output_type": "error",
     "traceback": [
      "\u001b[31m---------------------------------------------------------------------------\u001b[39m",
      "\u001b[31mUnboundLocalError\u001b[39m                         Traceback (most recent call last)",
      "\u001b[36mCell\u001b[39m\u001b[36m \u001b[39m\u001b[32mIn[1]\u001b[39m\u001b[32m, line 12\u001b[39m\n\u001b[32m      3\u001b[39m client = clientserver.Client() \u001b[38;5;66;03m# Create a client instance\u001b[39;00m\n\u001b[32m      5\u001b[39m \u001b[38;5;66;03m# client.get(\"CHAD\")\u001b[39;00m\n\u001b[32m      6\u001b[39m \u001b[38;5;66;03m# client.get(2)\u001b[39;00m\n\u001b[32m      7\u001b[39m \u001b[38;5;66;03m# client.get(\"2\")\u001b[39;00m\n\u001b[32m   (...)\u001b[39m\u001b[32m     10\u001b[39m \u001b[38;5;66;03m# client.get(\"Eve\")\u001b[39;00m\n\u001b[32m     11\u001b[39m \u001b[38;5;66;03m# client.get(\"Adam\")\u001b[39;00m\n\u001b[32m---> \u001b[39m\u001b[32m12\u001b[39m \u001b[43mclient\u001b[49m\u001b[43m.\u001b[49m\u001b[43mgetAll\u001b[49m\u001b[43m(\u001b[49m\u001b[43m)\u001b[49m\n",
      "\u001b[36mFile \u001b[39m\u001b[32m/workspaces/vs2lab/lab1/clientserver.py:148\u001b[39m, in \u001b[36mClient.getAll\u001b[39m\u001b[34m(self)\u001b[39m\n\u001b[32m    146\u001b[39m \u001b[38;5;28mself\u001b[39m.sock.send(command.encode(\u001b[33m\"\u001b[39m\u001b[33mascii\u001b[39m\u001b[33m\"\u001b[39m)) \n\u001b[32m    147\u001b[39m \u001b[38;5;28mself\u001b[39m.logger.info(\u001b[33m\"\u001b[39m\u001b[33mRequesting ALL contacts...\u001b[39m\u001b[33m\"\u001b[39m)\n\u001b[32m--> \u001b[39m\u001b[32m148\u001b[39m \u001b[38;5;28;01mwhile\u001b[39;00m \u001b[43minfo_out\u001b[49m != \u001b[33m\"\u001b[39m\u001b[33m---FINISHED---\u001b[39m\u001b[33m\"\u001b[39m: \n\u001b[32m    149\u001b[39m     info = \u001b[38;5;28mself\u001b[39m.sock.recv(\u001b[32m1024\u001b[39m)\n\u001b[32m    150\u001b[39m     info_out = info.decode(\u001b[33m\"\u001b[39m\u001b[33mascii\u001b[39m\u001b[33m\"\u001b[39m)\n",
      "\u001b[31mUnboundLocalError\u001b[39m: cannot access local variable 'info_out' where it is not associated with a value"
     ]
    }
   ],
   "source": [
    "import clientserver # import from our script\n",
    "\n",
    "client = clientserver.Client() # Create a client instance\n",
    "\n",
    "# client.get(\"CHAD\")\n",
    "# client.get(2)\n",
    "# client.get(\"2\")\n",
    "# client.get()\n",
    "# client.get(\"\")\"\n",
    "# client.get(\"Eve\")\n",
    "# client.get(\"Adam\")\n",
    "client.getAll()"
   ]
  },
  {
   "cell_type": "markdown",
   "metadata": {},
   "source": [
    "Finished."
   ]
  }
 ],
 "metadata": {
  "kernelspec": {
   "display_name": "vs2lab-uWc7IIUF",
   "language": "python",
   "name": "python3"
  },
  "language_info": {
   "codemirror_mode": {
    "name": "ipython",
    "version": 3
   },
   "file_extension": ".py",
   "mimetype": "text/x-python",
   "name": "python",
   "nbconvert_exporter": "python",
   "pygments_lexer": "ipython3",
   "version": "3.11.4"
  }
 },
 "nbformat": 4,
 "nbformat_minor": 2
}
