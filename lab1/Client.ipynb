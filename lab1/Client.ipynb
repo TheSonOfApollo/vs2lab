{
 "cells": [
  {
   "cell_type": "markdown",
   "metadata": {},
   "source": [
    "# Running server and client in separate notebooks - client part\n",
    "\n",
    "Here we start the client. The server needs to be started first. Lets go...."
   ]
  },
  {
   "cell_type": "code",
   "execution_count": 1,
   "metadata": {},
   "outputs": [
    {
     "name": "stderr",
     "output_type": "stream",
     "text": [
      "2025-10-24 17:36:02,838 - vs2lab.a1_layers.clientserver.Client - INFO - Client connected to socket <socket.socket fd=79, family=2, type=1, proto=0, laddr=('127.0.0.1', 53850), raddr=('127.0.0.1', 50007)>\n",
      "2025-10-24 17:36:02,840 - vs2lab.a1_layers.clientserver.Client - INFO - Sent name: Chad\n",
      "2025-10-24 17:36:02,849 - vs2lab.a1_layers.clientserver.Client - INFO - b'Chad'\n",
      "2025-10-24 17:36:02,907 - vs2lab.a1_layers.clientserver.Client - INFO - Information received, decoding...\n",
      "2025-10-24 17:36:03,013 - vs2lab.a1_layers.clientserver.Client - INFO - Sent name: Dave\n",
      "2025-10-24 17:36:03,056 - vs2lab.a1_layers.clientserver.Client - INFO - b'Dave'\n",
      "2025-10-24 17:36:03,084 - vs2lab.a1_layers.clientserver.Client - INFO - Information received, decoding...\n",
      "2025-10-24 17:36:03,113 - vs2lab.a1_layers.clientserver.Client - INFO - Sent name: Alice\n"
     ]
    },
    {
     "name": "stdout",
     "output_type": "stream",
     "text": [
      "Chad : +49 569 0516213\n",
      "Dave : +49 719 9898086\n"
     ]
    },
    {
     "name": "stderr",
     "output_type": "stream",
     "text": [
      "2025-10-24 17:36:03,213 - vs2lab.a1_layers.clientserver.Client - INFO - b'Alice'\n",
      "2025-10-24 17:36:03,436 - vs2lab.a1_layers.clientserver.Client - INFO - Information received, decoding...\n"
     ]
    },
    {
     "name": "stdout",
     "output_type": "stream",
     "text": [
      "Alice : +49 671 6367577\n"
     ]
    },
    {
     "data": {
      "text/plain": [
       "'Alice : +49 671 6367577'"
      ]
     },
     "execution_count": 1,
     "metadata": {},
     "output_type": "execute_result"
    }
   ],
   "source": [
    "import clientserver # import from our script\n",
    "\n",
    "client = clientserver.Client() # Create a client instance\n",
    "\n",
    "client.get(\"Chad\")\n",
    "client.get(\"Dave\")\n",
    "client.get(\"Alice\")"
   ]
  },
  {
   "cell_type": "markdown",
   "metadata": {},
   "source": [
    "Finished."
   ]
  }
 ],
 "metadata": {
  "kernelspec": {
   "display_name": "vs2lab-uWc7IIUF",
   "language": "python",
   "name": "python3"
  },
  "language_info": {
   "codemirror_mode": {
    "name": "ipython",
    "version": 3
   },
   "file_extension": ".py",
   "mimetype": "text/x-python",
   "name": "python",
   "nbconvert_exporter": "python",
   "pygments_lexer": "ipython3",
   "version": "3.11.4"
  }
 },
 "nbformat": 4,
 "nbformat_minor": 2
}
